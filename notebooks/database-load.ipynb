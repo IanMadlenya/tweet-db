{
 "cells": [
  {
   "cell_type": "code",
   "execution_count": 15,
   "metadata": {
    "collapsed": true
   },
   "outputs": [],
   "source": [
    "import psycopg2\n",
    "import secrets\n",
    "import pandas as pd\n",
    "import os\n",
    "import shapely\n",
    "import datetime"
   ]
  },
  {
   "cell_type": "code",
   "execution_count": 16,
   "metadata": {
    "collapsed": true
   },
   "outputs": [],
   "source": [
    "db_name = 'tweets_paul'\n",
    "user = secrets.user_paul\n",
    "password = secrets.password_paul\n",
    "host = '74.207.246.217'"
   ]
  },
  {
   "cell_type": "code",
   "execution_count": 17,
   "metadata": {
    "collapsed": false
   },
   "outputs": [],
   "source": [
    "connstring = \"dbname={} user={} host={} password={}\".format(db_name, user, host, password)"
   ]
  },
  {
   "cell_type": "code",
   "execution_count": 24,
   "metadata": {
    "collapsed": false
   },
   "outputs": [],
   "source": [
    "conn = psycopg2.connect(database=db_name, \n",
    "                        user=user,\n",
    "                        password=password,\n",
    "                        host=host)"
   ]
  },
  {
   "cell_type": "code",
   "execution_count": 19,
   "metadata": {
    "collapsed": true
   },
   "outputs": [],
   "source": [
    "cur = conn.cursor()\n",
    "cur.execute(\"\"\"SELECT srtext FROM spatial_ref_sys WHERE srid = 32610;\"\"\")\n",
    "rows = cur.fetchall()"
   ]
  },
  {
   "cell_type": "code",
   "execution_count": 20,
   "metadata": {
    "collapsed": false
   },
   "outputs": [
    {
     "name": "stdout",
     "output_type": "stream",
     "text": [
      "PROJCS[\"WGS 84 / UTM zone 10N\",GEOGCS[\"WGS 84\",DATUM[\"WGS_1984\",SPHEROID[\"WGS 84\",6378137,298.257223563,AUTHORITY[\"EPSG\",\"7030\"]],AUTHORITY[\"EPSG\",\"6326\"]],PRIMEM[\"Greenwich\",0,AUTHORITY[\"EPSG\",\"8901\"]],UNIT[\"degree\",0.0174532925199433,AUTHORITY[\"EPSG\",\"9122\"]],AUTHORITY[\"EPSG\",\"4326\"]],PROJECTION[\"Transverse_Mercator\"],PARAMETER[\"latitude_of_origin\",0],PARAMETER[\"central_meridian\",-123],PARAMETER[\"scale_factor\",0.9996],PARAMETER[\"false_easting\",500000],PARAMETER[\"false_northing\",0],UNIT[\"metre\",1,AUTHORITY[\"EPSG\",\"9001\"]],AXIS[\"Easting\",EAST],AXIS[\"Northing\",NORTH],AUTHORITY[\"EPSG\",\"32610\"]]\n"
     ]
    }
   ],
   "source": [
    "# Check spatial settings for postgis database\n",
    "\n",
    "print rows[0][0]"
   ]
  },
  {
   "cell_type": "code",
   "execution_count": 7,
   "metadata": {
    "collapsed": false
   },
   "outputs": [],
   "source": [
    "# load data\n",
    "\n",
    "with pd.HDFStore(os.path.join(os.getcwd(), '..', 'data', 'tweets_1M.h5'), mode='r') as store:\n",
    "    df = store.tweets_subset"
   ]
  },
  {
   "cell_type": "code",
   "execution_count": 8,
   "metadata": {
    "collapsed": false
   },
   "outputs": [
    {
     "data": {
      "text/html": [
       "<div>\n",
       "<table border=\"1\" class=\"dataframe\">\n",
       "  <thead>\n",
       "    <tr style=\"text-align: right;\">\n",
       "      <th></th>\n",
       "      <th>id</th>\n",
       "      <th>lat</th>\n",
       "      <th>lng</th>\n",
       "      <th>text</th>\n",
       "      <th>timeStamp</th>\n",
       "      <th>user_id</th>\n",
       "    </tr>\n",
       "  </thead>\n",
       "  <tbody>\n",
       "    <tr>\n",
       "      <th>765125</th>\n",
       "      <td>384431028661526528</td>\n",
       "      <td>37.895140</td>\n",
       "      <td>-122.101307</td>\n",
       "      <td>Eagles fans are the most bipolar people ever h...</td>\n",
       "      <td>2013-09-29 21:34:34</td>\n",
       "      <td>248989689</td>\n",
       "    </tr>\n",
       "    <tr>\n",
       "      <th>308375</th>\n",
       "      <td>380727746852171777</td>\n",
       "      <td>37.933621</td>\n",
       "      <td>-122.336086</td>\n",
       "      <td>My emails tho http://t.co/ctPJWBbGHO</td>\n",
       "      <td>2013-09-19 16:19:03</td>\n",
       "      <td>234263178</td>\n",
       "    </tr>\n",
       "    <tr>\n",
       "      <th>181260</th>\n",
       "      <td>379675732739633152</td>\n",
       "      <td>37.785864</td>\n",
       "      <td>-122.403037</td>\n",
       "      <td>Mexican (@ Jessie Square) http://t.co/Dd2dU95exI</td>\n",
       "      <td>2013-09-16 18:38:43</td>\n",
       "      <td>556086698</td>\n",
       "    </tr>\n",
       "    <tr>\n",
       "      <th>355895</th>\n",
       "      <td>381122524378968064</td>\n",
       "      <td>37.409624</td>\n",
       "      <td>-121.937065</td>\n",
       "      <td>A hoe will be a hoe &amp;amp; a nigga will be a ni...</td>\n",
       "      <td>2013-09-20 18:27:45</td>\n",
       "      <td>118594397</td>\n",
       "    </tr>\n",
       "    <tr>\n",
       "      <th>428001</th>\n",
       "      <td>381658997150851072</td>\n",
       "      <td>37.981324</td>\n",
       "      <td>-122.332549</td>\n",
       "      <td>There' goes my babbbbby</td>\n",
       "      <td>2013-09-22 05:59:30</td>\n",
       "      <td>585032848</td>\n",
       "    </tr>\n",
       "  </tbody>\n",
       "</table>\n",
       "</div>"
      ],
      "text/plain": [
       "                        id        lat         lng  \\\n",
       "765125  384431028661526528  37.895140 -122.101307   \n",
       "308375  380727746852171777  37.933621 -122.336086   \n",
       "181260  379675732739633152  37.785864 -122.403037   \n",
       "355895  381122524378968064  37.409624 -121.937065   \n",
       "428001  381658997150851072  37.981324 -122.332549   \n",
       "\n",
       "                                                     text           timeStamp  \\\n",
       "765125  Eagles fans are the most bipolar people ever h... 2013-09-29 21:34:34   \n",
       "308375               My emails tho http://t.co/ctPJWBbGHO 2013-09-19 16:19:03   \n",
       "181260   Mexican (@ Jessie Square) http://t.co/Dd2dU95exI 2013-09-16 18:38:43   \n",
       "355895  A hoe will be a hoe &amp; a nigga will be a ni... 2013-09-20 18:27:45   \n",
       "428001                            There' goes my babbbbby 2013-09-22 05:59:30   \n",
       "\n",
       "          user_id  \n",
       "765125  248989689  \n",
       "308375  234263178  \n",
       "181260  556086698  \n",
       "355895  118594397  \n",
       "428001  585032848  "
      ]
     },
     "execution_count": 8,
     "metadata": {},
     "output_type": "execute_result"
    }
   ],
   "source": [
    "df.head()"
   ]
  },
  {
   "cell_type": "code",
   "execution_count": 6,
   "metadata": {
    "collapsed": false
   },
   "outputs": [],
   "source": [
    "# Duplicate SQL connection using sqlalchemy to take advantage of \n",
    "# pandas built in \"to_sql\" method\n",
    "\n",
    "from sqlalchemy import create_engine\n",
    "# enginestring = 'postgresql://{}:{}@74.207.246.217:5432/tweets_paul'.format(user, password)\n",
    "engine = create_engine(enginestring)"
   ]
  },
  {
   "cell_type": "code",
   "execution_count": 28,
   "metadata": {
    "collapsed": false
   },
   "outputs": [
    {
     "ename": "NameError",
     "evalue": "name 'engine' is not defined",
     "output_type": "error",
     "traceback": [
      "\u001b[1;31m---------------------------------------------------------------------------\u001b[0m",
      "\u001b[1;31mNameError\u001b[0m                                 Traceback (most recent call last)",
      "\u001b[1;32m<ipython-input-28-af071cad5558>\u001b[0m in \u001b[0;36m<module>\u001b[1;34m()\u001b[0m\n\u001b[0;32m      1\u001b[0m \u001b[1;31m# Check connection\u001b[0m\u001b[1;33m\u001b[0m\u001b[1;33m\u001b[0m\u001b[0m\n\u001b[0;32m      2\u001b[0m \u001b[1;33m\u001b[0m\u001b[0m\n\u001b[1;32m----> 3\u001b[1;33m \u001b[0mconnection\u001b[0m \u001b[1;33m=\u001b[0m \u001b[0mengine\u001b[0m\u001b[1;33m.\u001b[0m\u001b[0mconnect\u001b[0m\u001b[1;33m(\u001b[0m\u001b[1;33m)\u001b[0m\u001b[1;33m\u001b[0m\u001b[0m\n\u001b[0m\u001b[0;32m      4\u001b[0m \u001b[0mresult\u001b[0m \u001b[1;33m=\u001b[0m \u001b[0mconnection\u001b[0m\u001b[1;33m.\u001b[0m\u001b[0mexecute\u001b[0m\u001b[1;33m(\u001b[0m\u001b[1;34m\"SELECT column_name, data_type FROM                              information_schema.columns where table_name = 'config';\"\u001b[0m\u001b[1;33m)\u001b[0m\u001b[1;33m\u001b[0m\u001b[0m\n\u001b[0;32m      5\u001b[0m \u001b[1;32mfor\u001b[0m \u001b[0mrow\u001b[0m \u001b[1;32min\u001b[0m \u001b[0mresult\u001b[0m\u001b[1;33m:\u001b[0m\u001b[1;33m\u001b[0m\u001b[0m\n",
      "\u001b[1;31mNameError\u001b[0m: name 'engine' is not defined"
     ]
    }
   ],
   "source": [
    "connection = engine.connect()\n",
    "result = connection.execute(\"SELECT srtext FROM spatial_ref_sys WHERE srid = 32610;\")\n",
    "for row in result:\n",
    "    print row"
   ]
  },
  {
   "cell_type": "code",
   "execution_count": null,
   "metadata": {
    "collapsed": false
   },
   "outputs": [],
   "source": [
    "# Load data to SQL\n",
    "\n",
    "df.to_sql('tweets', engine)"
   ]
  }
 ],
 "metadata": {
  "kernelspec": {
   "display_name": "Python 2",
   "language": "python",
   "name": "python2"
  },
  "language_info": {
   "codemirror_mode": {
    "name": "ipython",
    "version": 2
   },
   "file_extension": ".py",
   "mimetype": "text/x-python",
   "name": "python",
   "nbconvert_exporter": "python",
   "pygments_lexer": "ipython2",
   "version": "2.7.12"
  }
 },
 "nbformat": 4,
 "nbformat_minor": 0
}
