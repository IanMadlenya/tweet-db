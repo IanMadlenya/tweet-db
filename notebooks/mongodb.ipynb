{
 "cells": [
  {
   "cell_type": "markdown",
   "metadata": {},
   "source": [
    "# MongoDB Extra Credit"
   ]
  },
  {
   "cell_type": "markdown",
   "metadata": {},
   "source": [
    "### Creating a GeoJSON File"
   ]
  },
  {
   "cell_type": "markdown",
   "metadata": {
    "collapsed": true
   },
   "source": [
    "We begin by loading the original database and creating an array.\n",
    "\n",
    "```\n",
    "import json\n",
    "import pandas\n",
    "\n",
    "with open('tweets_1M.json','r') as f:    \n",
    "    tweets = json.load(f)  \n",
    "```"
   ]
  },
  {
   "cell_type": "markdown",
   "metadata": {
    "collapsed": true
   },
   "source": [
    "For MongoDB to understand and read the file, we transform the JSON File into a GeoJSON File.\n",
    "\n",
    "```\n",
    "tweets_geojson_format3 = [{\"type\": \"Feature\", \n",
    "                           \"location\": {\"type\": \"Point\", \"coordinates\": [d[\"lng\"],d[\"lat\"]]}, \n",
    "                           \"id\": d[\"id\"], \"text\": d[\"text\"],\n",
    "                           \"user_id\": d[\"user_id\"]} for d in tweets]\n",
    "```"
   ]
  },
  {
   "cell_type": "markdown",
   "metadata": {
    "collapsed": false
   },
   "source": [
    "We save the GeoJSON file to the disk to be imported later.\n",
    "```\n",
    "with open('tweets_geojson_format3.json', 'w') as fp:\n",
    "    json.dump(tweets_geojson_format3, fp)\n",
    "```"
   ]
  },
  {
   "cell_type": "markdown",
   "metadata": {},
   "source": [
    "### Importing the GeoJSON File into MongoDB"
   ]
  },
  {
   "cell_type": "markdown",
   "metadata": {
    "collapsed": true
   },
   "source": [
    "To import the file into MongoDB, we write the following into the command prompt:  mongoimport --host=127.0.0.1 --port=27017 --db database_3 --collection twitter_3 --type=json --file tweets_geojson_format3.json --jsonArray\n",
    "\n",
    "At the same time, we have to ensure that mongod is running at the same time in a command prompt, all folders have been created with the correct paths, and that the data has been stored in the correct folder with MongoDB commands.\n"
   ]
  },
  {
   "cell_type": "markdown",
   "metadata": {
    "collapsed": false
   },
   "source": [
    "We next do some basic commands to extract the database into the Python notebook.\n",
    "```\n",
    "import pymongo\n",
    "from pymongo import MongoClient\n",
    "\n",
    "client = MongoClient()\n",
    "db = client.database_3\n",
    "```"
   ]
  },
  {
   "cell_type": "markdown",
   "metadata": {
    "collapsed": false
   },
   "source": [
    "Two of the queries are spatial in nature and we create a spatial index for this purpose.\n",
    "```\n",
    "#Create a Spatial Index\n",
    "\n",
    "db.twitter_3.create_index([('location','2dsphere')])\n",
    "```"
   ]
  },
  {
   "cell_type": "markdown",
   "metadata": {},
   "source": [
    "### Query all Tweets from 1138308091"
   ]
  },
  {
   "cell_type": "markdown",
   "metadata": {
    "collapsed": false
   },
   "source": [
    "```\n",
    "cursor = db.twitter_3.find({\"user_id\": 1138308091})\n",
    "```"
   ]
  },
  {
   "cell_type": "markdown",
   "metadata": {
    "collapsed": false
   },
   "source": [
    "```\n",
    "for document in cursor:\n",
    "    print(document)\n",
    "```\n",
    "The query resulted in 3 tweets.  Two are shown here.    \n",
    "```\n",
    "    {'user_id': 1138308091, 'text': 'According to a study at #UCBerkeley, each #tech #job in SF creates 5 nontech positions. Who am I supporting... Uber? laundry services? Food?', 'type': 'Feature', 'id': 378189982248091648, '_id': ObjectId('57f57cab01cc00c53b3bf50d'), 'location': {'coordinates': [-122.40190047, 37.78914447], 'type': 'Point'}}\n",
    "    {'user_id': 1138308091, 'text': 'That moment your #shazam is #backstreetboys ...', 'type': 'Feature', 'id': 379122191872176128, '_id': ObjectId('57f57cb101cc00c53b3d9194'), 'location': {'coordinates': [-122.46826224, 37.65079252], 'type': 'Point'}}...\n",
    "\n",
    "```"
   ]
  },
  {
   "cell_type": "markdown",
   "metadata": {},
   "source": [
    "### Query 10 Tweets Nearest to 378189967014379520"
   ]
  },
  {
   "cell_type": "markdown",
   "metadata": {
    "collapsed": true
   },
   "source": [
    "```\n",
    "cursor = db.twitter_3.find({\"id\": 378189967014379520})\n",
    "```"
   ]
  },
  {
   "cell_type": "markdown",
   "metadata": {
    "collapsed": false
   },
   "source": [
    "```\n",
    "for document in cursor:\n",
    "    print(document)\n",
    "```\n",
    "The query resulted with a single tweet with a specific lat/long coordinate to be used for the next code cell.\n",
    "```\n",
    "    {'user_id': 172710354, 'text': '@DarrenArsenal1 Alexi Lalas', 'type': 'Feature', 'id': 378189967014379520, '_id': ObjectId('57f57cab01cc00c53b3bf50c'), 'location': {'coordinates': [-118.36353256, 34.0971366], 'type': 'Point'}}\n",
    "    ```"
   ]
  },
  {
   "cell_type": "markdown",
   "metadata": {
    "collapsed": true
   },
   "source": [
    "Note that we input the coordinates from the last response into a new query.\n",
    "```\n",
    "cursor = db.twitter_3.aggregate([\n",
    "   {'$geoNear': {\n",
    "        'near': { 'type': 'Point', 'coordinates': [ -118.36353256, 34.0971366 ] },\n",
    "        'num': 10,\n",
    "        'distanceField': 'dist.calculated',\n",
    "        'spherical': True}}])\n",
    "```"
   ]
  },
  {
   "cell_type": "markdown",
   "metadata": {
    "collapsed": false
   },
   "source": [
    "```\n",
    "for document in cursor:\n",
    "    print(document)\n",
    "```\n",
    "The query resulted in 10 tweets.  Two are shown here.\n",
    "```    \n",
    "    {'user_id': 172710354, 'dist': {'calculated': 0.0}, 'text': '@DarrenArsenal1 Alexi Lalas', 'type': 'Feature', 'id': 378189967014379520, '_id': ObjectId('57f57cab01cc00c53b3bf50c'), 'location': {'coordinates': [-118.36353256, 34.0971366], 'type': 'Point'}}\n",
    "    {'user_id': 135323671, 'dist': {'calculated': 7.562498675782954}, 'text': '“@nataliablanco83: Coming out soon!!!! #cwh #wellness #cousin #picoftheday @piamiller01 @ rose bay http://t.co/OG7a9mxhyp” #teamFamily 😉', 'type': 'Feature', 'id': 385990165321089024, '_id': ObjectId('57f57cdf01cc00c53b4a5a97'), 'location': {'coordinates': [-118.36360314, 34.09710197], 'type': 'Point'}}...\n",
    "\n",
    "```"
   ]
  },
  {
   "cell_type": "markdown",
   "metadata": {},
   "source": [
    "### Query all Tweets within the Polygon"
   ]
  },
  {
   "cell_type": "markdown",
   "metadata": {
    "collapsed": false
   },
   "source": [
    "To query successfully, we add the polygon coordinates to the cursor first.\n",
    "```\n",
    "cursor = db.twitter_3.find({\n",
    "     'location': {\n",
    "     '$geoWithin': {\n",
    "     '$geometry': {\n",
    "     'type' : \"Polygon\" ,\n",
    "     'coordinates': [[[-122.412,37.810],[-122.412,37.804],[-122.403,37.806],[-122.407,37.810],[-122.412,37.810]]]}}}})\n",
    "```"
   ]
  },
  {
   "cell_type": "markdown",
   "metadata": {
    "collapsed": false
   },
   "source": [
    "```\n",
    "for document in cursor:\n",
    "    print(document)\n",
    "```\n",
    "The query resulted in a large set of tweets, of which two are shown here.\n",
    "```    \n",
    "    {'user_id': 449285514, 'text': 'Ear cuffs: yay or nay?', 'type': 'Feature', 'id': 386233772888174592, '_id': ObjectId('57f57ce001cc00c53b4ab590'), 'location': {'coordinates': [-122.40376321, 37.80616142], 'type': 'Point'}}\n",
    "    {'user_id': 308850121, 'text': '@ShellieMaitre @jkg1017 thought it would be too scary!', 'type': 'Feature', 'id': 382577182763003904, '_id': ObjectId('57f57cc701cc00c53b43e730'), 'location': {'coordinates': [-122.40423985, 37.80638461], 'type': 'Point'}}...\n",
    "    ```"
   ]
  }
 ],
 "metadata": {
  "anaconda-cloud": {},
  "kernelspec": {
   "display_name": "Python 2",
   "language": "python",
   "name": "python2"
  },
  "language_info": {
   "codemirror_mode": {
    "name": "ipython",
    "version": 2
   },
   "file_extension": ".py",
   "mimetype": "text/x-python",
   "name": "python",
   "nbconvert_exporter": "python",
   "pygments_lexer": "ipython2",
   "version": "2.7.12"
  }
 },
 "nbformat": 4,
 "nbformat_minor": 1
}
