{
 "cells": [
  {
   "cell_type": "code",
   "execution_count": 1,
   "metadata": {
    "collapsed": true
   },
   "outputs": [],
   "source": [
    "import psycopg2\n",
    "import secrets\n",
    "import pandas as pd\n",
    "import os\n",
    "import shapely\n",
    "import datetime"
   ]
  },
  {
   "cell_type": "code",
   "execution_count": 2,
   "metadata": {
    "collapsed": true
   },
   "outputs": [],
   "source": [
    "db_name = 'tweets_paul'\n",
    "user = 'paul'\n",
    "password = secrets.password_paul\n",
    "host = '74.207.246.217'\n",
    "connstring = \"dbname={} user={} host={} password={}\".format(db_name, user, host, password)\n",
    "conn = psycopg2.connect(database=db_name, \n",
    "                        user=user,\n",
    "                        password=password,\n",
    "                        host=host)"
   ]
  },
  {
   "cell_type": "code",
   "execution_count": 3,
   "metadata": {
    "collapsed": false
   },
   "outputs": [
    {
     "data": {
      "text/plain": [
       "[('index', 'bigint'),\n",
       " ('id', 'bigint'),\n",
       " ('lat', 'double precision'),\n",
       " ('lng', 'double precision'),\n",
       " ('text', 'text'),\n",
       " ('timeStamp', 'timestamp without time zone'),\n",
       " ('user_id', 'bigint'),\n",
       " ('location', 'USER-DEFINED')]"
      ]
     },
     "execution_count": 3,
     "metadata": {},
     "output_type": "execute_result"
    }
   ],
   "source": [
    "cur = conn.cursor()\n",
    "\n",
    "# Check data types\n",
    "cur.execute(\"SELECT column_name, data_type FROM information_schema.columns \\\n",
    "            WHERE table_name = 'tweets';\")\n",
    "cur.fetchall()"
   ]
  },
  {
   "cell_type": "code",
   "execution_count": 10,
   "metadata": {
    "collapsed": false
   },
   "outputs": [],
   "source": [
    "shp_path = os.path.join(os.getcwd(), '..', 'data', 'tl_2010_06_county10', 'tl_2010_06_county10.shp')"
   ]
  },
  {
   "cell_type": "code",
   "execution_count": null,
   "metadata": {
    "collapsed": true
   },
   "outputs": [],
   "source": [
    "args = ['shp2pgsql', '-I', '-W', 'latin1', '-s', '4326', '-h', host, '-u', 'paul', '-P', password, shp_path]"
   ]
  },
  {
   "cell_type": "code",
   "execution_count": 8,
   "metadata": {
    "collapsed": false
   },
   "outputs": [],
   "source": [
    "# Commit changes\n",
    "\n",
    "conn.commit()"
   ]
  },
  {
   "cell_type": "code",
   "execution_count": 9,
   "metadata": {
    "collapsed": true
   },
   "outputs": [],
   "source": [
    "conn.close()"
   ]
  }
 ],
 "metadata": {
  "kernelspec": {
   "display_name": "Python 2",
   "language": "python",
   "name": "python2"
  },
  "language_info": {
   "codemirror_mode": {
    "name": "ipython",
    "version": 2
   },
   "file_extension": ".py",
   "mimetype": "text/x-python",
   "name": "python",
   "nbconvert_exporter": "python",
   "pygments_lexer": "ipython2",
   "version": "2.7.12"
  }
 },
 "nbformat": 4,
 "nbformat_minor": 0
}
