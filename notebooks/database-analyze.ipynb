{
 "cells": [
  {
   "cell_type": "code",
   "execution_count": 8,
   "metadata": {
    "collapsed": true
   },
   "outputs": [],
   "source": [
    "import psycopg2\n",
    "import secrets\n",
    "import pandas as pd\n",
    "import os\n",
    "import shapely\n",
    "import datetime\n",
    "import subprocess\n",
    "from census import Census \n",
    "import requests\n",
    "import folium"
   ]
  },
  {
   "cell_type": "code",
   "execution_count": 9,
   "metadata": {
    "collapsed": false
   },
   "outputs": [],
   "source": [
    "db_name = 'tweets_paul'\n",
    "user = 'paul'\n",
    "password = secrets.password_paul\n",
    "host = '74.207.246.217'\n",
    "connstring = \"dbname={} user={} host={} password={}\".format(db_name, user, host, password)\n",
    "conn = psycopg2.connect(database=db_name, \n",
    "                        user=user,\n",
    "                        password=password,\n",
    "                        host=host)"
   ]
  },
  {
   "cell_type": "code",
   "execution_count": 10,
   "metadata": {
    "collapsed": false
   },
   "outputs": [
    {
     "data": {
      "text/plain": [
       "[('index', 'bigint'),\n",
       " ('id', 'bigint'),\n",
       " ('lat', 'double precision'),\n",
       " ('lng', 'double precision'),\n",
       " ('text', 'text'),\n",
       " ('timeStamp', 'timestamp without time zone'),\n",
       " ('user_id', 'bigint'),\n",
       " ('location', 'USER-DEFINED')]"
      ]
     },
     "execution_count": 10,
     "metadata": {},
     "output_type": "execute_result"
    }
   ],
   "source": [
    "cur = conn.cursor()\n",
    "\n",
    "# Check data types\n",
    "cur.execute(\"SELECT column_name, data_type FROM information_schema.columns \\\n",
    "            WHERE table_name = 'tweets';\")\n",
    "cur.fetchall()"
   ]
  },
  {
   "cell_type": "code",
   "execution_count": 5,
   "metadata": {
    "collapsed": false
   },
   "outputs": [
    {
     "data": {
      "text/plain": [
       "[('gid', 'integer'),\n",
       " ('statefp10', 'character varying'),\n",
       " ('countyfp10', 'character varying'),\n",
       " ('countyns10', 'character varying'),\n",
       " ('geoid10', 'character varying'),\n",
       " ('name10', 'character varying'),\n",
       " ('namelsad10', 'character varying'),\n",
       " ('lsad10', 'character varying'),\n",
       " ('classfp10', 'character varying'),\n",
       " ('mtfcc10', 'character varying'),\n",
       " ('csafp10', 'character varying'),\n",
       " ('cbsafp10', 'character varying'),\n",
       " ('metdivfp10', 'character varying'),\n",
       " ('funcstat10', 'character varying'),\n",
       " ('aland10', 'double precision'),\n",
       " ('awater10', 'double precision'),\n",
       " ('intptlat10', 'character varying'),\n",
       " ('intptlon10', 'character varying'),\n",
       " ('geom', 'USER-DEFINED')]"
      ]
     },
     "execution_count": 5,
     "metadata": {},
     "output_type": "execute_result"
    }
   ],
   "source": [
    "# bash command to insert shapefile into postgis database\n",
    "\n",
    "\"\"\"\n",
    "shp2pgsql -I -W 'latin1' -s 4326 /home/paul/Documents/Coursework/tweet-db/data/tl_2010_06_county10/tl_2010_06_county10.shp counties | psql -h 74.207.246.217 -d tweets_paul -U paul\n",
    "\"\"\"\n",
    "\n",
    "# Check data types in the counties \n",
    "cur.execute(\"SELECT column_name, data_type FROM information_schema.columns \\\n",
    "            WHERE table_name = 'counties';\")\n",
    "cur.fetchall()"
   ]
  },
  {
   "cell_type": "code",
   "execution_count": 6,
   "metadata": {
    "collapsed": false
   },
   "outputs": [
    {
     "data": {
      "text/plain": [
       "[('06059',), ('06103',), ('06011',), ('06083',), ('06051',)]"
      ]
     },
     "execution_count": 6,
     "metadata": {},
     "output_type": "execute_result"
    }
   ],
   "source": [
    "# Check the first few FIPS codes; looks good\n",
    "\n",
    "cur.execute(\"SELECT geoid10 FROM counties LIMIT 5;\")\n",
    "cur.fetchall()"
   ]
  },
  {
   "cell_type": "code",
   "execution_count": 7,
   "metadata": {
    "collapsed": false
   },
   "outputs": [
    {
     "data": {
      "text/plain": [
       "[(8502L,)]"
      ]
     },
     "execution_count": 7,
     "metadata": {},
     "output_type": "execute_result"
    }
   ],
   "source": [
    "# Calculate the number of tweets inside of Contra Costa County.\n",
    "\n",
    "query = \"SELECT count(*) FROM counties, tweets \\\n",
    "         WHERE counties.geoid10='06013' \\\n",
    "         AND ST_Intersects(counties.geom, tweets.location);\"\n",
    "\n",
    "cur.execute(query)\n",
    "cur.fetchall()"
   ]
  },
  {
   "cell_type": "code",
   "execution_count": 14,
   "metadata": {
    "collapsed": false
   },
   "outputs": [
    {
     "data": {
      "text/plain": [
       "[(85094L,)]"
      ]
     },
     "execution_count": 14,
     "metadata": {},
     "output_type": "execute_result"
    }
   ],
   "source": [
    "# How many Tweets fall 100 miles outside of Alameda County? (i.e., fall outside of a 100 mile polygon\n",
    "# surrounding the Alameda County).\n",
    "\n",
    "# This is the complement\n",
    "\n",
    "query = \"SELECT count(*) FROM counties, tweets \\\n",
    "        WHERE counties.geoid10='06001' \\\n",
    "        AND ST_Dwithin(ST_Transform(counties.geom, 3157), ST_Transform(tweets.location, 3157), 160934);\"\n",
    "\n",
    "cur.execute(query)\n",
    "cur.fetchall()"
   ]
  },
  {
   "cell_type": "code",
   "execution_count": 15,
   "metadata": {
    "collapsed": false
   },
   "outputs": [
    {
     "data": {
      "text/plain": [
       "[(14906L,)]"
      ]
     },
     "execution_count": 15,
     "metadata": {},
     "output_type": "execute_result"
    }
   ],
   "source": [
    "# How many Tweets fall 100 miles outside of Alameda County? (i.e., fall outside of a 100 mile polygon\n",
    "# surrounding the Alameda County).\n",
    "\n",
    "# Fixed to answer the question by adding NOT to query\n",
    "\n",
    "query = \"SELECT count(*) FROM counties, tweets \\\n",
    "        WHERE counties.geoid10='06001' \\\n",
    "        AND NOT ST_Dwithin(ST_Transform(counties.geom, 3157), ST_Transform(tweets.location, 3157), 160934);\"\n",
    "\n",
    "cur.execute(query)\n",
    "cur.fetchall()"
   ]
  },
  {
   "cell_type": "code",
   "execution_count": 36,
   "metadata": {
    "collapsed": false
   },
   "outputs": [
    {
     "data": {
      "text/html": [
       "<div>\n",
       "<table border=\"1\" class=\"dataframe\">\n",
       "  <thead>\n",
       "    <tr style=\"text-align: right;\">\n",
       "      <th></th>\n",
       "      <th>population</th>\n",
       "      <th>county</th>\n",
       "      <th>state</th>\n",
       "      <th>geoid10</th>\n",
       "    </tr>\n",
       "  </thead>\n",
       "  <tbody>\n",
       "    <tr>\n",
       "      <th>0</th>\n",
       "      <td>1510271</td>\n",
       "      <td>001</td>\n",
       "      <td>06</td>\n",
       "      <td>06001</td>\n",
       "    </tr>\n",
       "    <tr>\n",
       "      <th>1</th>\n",
       "      <td>1175</td>\n",
       "      <td>003</td>\n",
       "      <td>06</td>\n",
       "      <td>06003</td>\n",
       "    </tr>\n",
       "    <tr>\n",
       "      <th>2</th>\n",
       "      <td>38091</td>\n",
       "      <td>005</td>\n",
       "      <td>06</td>\n",
       "      <td>06005</td>\n",
       "    </tr>\n",
       "    <tr>\n",
       "      <th>3</th>\n",
       "      <td>220000</td>\n",
       "      <td>007</td>\n",
       "      <td>06</td>\n",
       "      <td>06007</td>\n",
       "    </tr>\n",
       "    <tr>\n",
       "      <th>4</th>\n",
       "      <td>45578</td>\n",
       "      <td>009</td>\n",
       "      <td>06</td>\n",
       "      <td>06009</td>\n",
       "    </tr>\n",
       "  </tbody>\n",
       "</table>\n",
       "</div>"
      ],
      "text/plain": [
       "  population county state geoid10\n",
       "0    1510271    001    06   06001\n",
       "1       1175    003    06   06003\n",
       "2      38091    005    06   06005\n",
       "3     220000    007    06   06007\n",
       "4      45578    009    06   06009"
      ]
     },
     "execution_count": 36,
     "metadata": {},
     "output_type": "execute_result"
    }
   ],
   "source": [
    "# Get the population data for California counties directly from the Census API \n",
    "\n",
    "c = Census(secrets.censuskey)\n",
    "\n",
    "population = c.sf1.get('P0010001', geo={'for': 'county:*',\n",
    "                                       'in': 'state:06'})\n",
    "pop = pd.DataFrame(population)\n",
    "pop.columns = ['population', 'county', 'state']\n",
    "pop['geoid10'] = pop.state + pop.county\n",
    "pop.head()"
   ]
  },
  {
   "cell_type": "code",
   "execution_count": 37,
   "metadata": {
    "collapsed": false
   },
   "outputs": [],
   "source": [
    "# Duplicate SQL connection using sqlalchemy to take advantage of \n",
    "# pandas built in \"to_sql\" method\n",
    "\n",
    "from sqlalchemy import create_engine\n",
    "enginestring = 'postgresql://{}:{}@74.207.246.217:5432/tweets_paul'.format(user, password)\n",
    "engine = create_engine(enginestring)\n",
    "\n",
    "# Load data to SQL\n",
    "pop.to_sql('population', engine)\n",
    "\n",
    "# Commit changes\n",
    "conn.commit()"
   ]
  },
  {
   "cell_type": "code",
   "execution_count": 44,
   "metadata": {
    "collapsed": false
   },
   "outputs": [
    {
     "data": {
      "text/plain": [
       "[('index', 'bigint'),\n",
       " ('population', 'text'),\n",
       " ('county', 'text'),\n",
       " ('state', 'text'),\n",
       " ('geoid10', 'text')]"
      ]
     },
     "execution_count": 44,
     "metadata": {},
     "output_type": "execute_result"
    }
   ],
   "source": [
    "# Check data types for the new population table\n",
    "cur.execute(\"SELECT column_name, data_type FROM information_schema.columns \\\n",
    "            WHERE table_name = 'population';\")\n",
    "cur.fetchall()"
   ]
  },
  {
   "cell_type": "code",
   "execution_count": 22,
   "metadata": {
    "collapsed": false
   },
   "outputs": [
    {
     "data": {
      "text/plain": [
       "[('Orange', '3010232'),\n",
       " ('Tehama', '63463'),\n",
       " ('Colusa', '21419'),\n",
       " ('Santa Barbara', '423895'),\n",
       " ('Mono', '14202'),\n",
       " ('Monterey', '415057'),\n",
       " ('Placer', '348432'),\n",
       " ('Amador', '38091'),\n",
       " ('Calaveras', '45578'),\n",
       " ('Imperial', '174528'),\n",
       " ('Siskiyou', '44900'),\n",
       " ('Sonoma', '483878'),\n",
       " ('Santa Clara', '1781642'),\n",
       " ('Kern', '839631'),\n",
       " ('Yolo', '200849'),\n",
       " ('Mendocino', '87841'),\n",
       " ('Sacramento', '1418788'),\n",
       " ('Madera', '150865'),\n",
       " ('Yuba', '72155'),\n",
       " ('Tulare', '442179'),\n",
       " ('San Diego', '3095313'),\n",
       " ('Plumas', '20007'),\n",
       " ('San Benito', '55269'),\n",
       " ('Shasta', '177223'),\n",
       " ('Stanislaus', '514453'),\n",
       " ('Mariposa', '18251'),\n",
       " ('Fresno', '930450'),\n",
       " ('Alpine', '1175'),\n",
       " ('Marin', '252409'),\n",
       " ('Glenn', '28122'),\n",
       " ('Lassen', '34895'),\n",
       " ('Del Norte', '28610'),\n",
       " ('Napa', '136484'),\n",
       " ('San Luis Obispo', '269637'),\n",
       " ('San Mateo', '718451'),\n",
       " ('Nevada', '98764'),\n",
       " ('San Joaquin', '685306'),\n",
       " ('San Bernardino', '2035210'),\n",
       " ('Sutter', '94737'),\n",
       " ('Riverside', '2189641'),\n",
       " ('Trinity', '13786'),\n",
       " ('Contra Costa', '1049025'),\n",
       " ('Ventura', '823318'),\n",
       " ('Tuolumne', '55365'),\n",
       " ('Butte', '220000'),\n",
       " ('Sierra', '3240'),\n",
       " ('Lake', '64665'),\n",
       " ('Modoc', '9686'),\n",
       " ('El Dorado', '181058'),\n",
       " ('Los Angeles', '9818605'),\n",
       " ('Alameda', '1510271'),\n",
       " ('Inyo', '18546'),\n",
       " ('San Francisco', '805235'),\n",
       " ('Santa Cruz', '262382'),\n",
       " ('Kings', '152982'),\n",
       " ('Humboldt', '134623'),\n",
       " ('Solano', '413344'),\n",
       " ('Merced', '255793')]"
      ]
     },
     "execution_count": 22,
     "metadata": {},
     "output_type": "execute_result"
    }
   ],
   "source": [
    "# provide a visualization of tweets per capita for California counties\n",
    "\n",
    "cur.execute(\"SELECT counties.name10, population.population FROM population INNER JOIN counties ON counties.geoid10 = population.geoid10;\")\n",
    "cur.fetchall()"
   ]
  },
  {
   "cell_type": "code",
   "execution_count": 42,
   "metadata": {
    "collapsed": false
   },
   "outputs": [
    {
     "data": {
      "text/plain": [
       "[('Orange', 742L),\n",
       " ('El Dorado', 83L),\n",
       " ('Napa', 492L),\n",
       " ('Mendocino', 286L),\n",
       " ('Plumas', 53L),\n",
       " ('Santa Clara', 19531L),\n",
       " ('San Diego', 841L),\n",
       " ('Nevada', 61L),\n",
       " ('Sutter', 479L),\n",
       " ('San Luis Obispo', 530L),\n",
       " ('Los Angeles', 3946L),\n",
       " ('Kings', 7L),\n",
       " ('San Benito', 158L),\n",
       " ('Del Norte', 79L),\n",
       " ('Madera', 190L),\n",
       " ('Santa Barbara', 76L),\n",
       " ('Placer', 72L),\n",
       " ('Yolo', 490L),\n",
       " ('Stanislaus', 1077L),\n",
       " ('Imperial', 557L),\n",
       " ('Riverside', 2270L),\n",
       " ('Amador', 73L),\n",
       " ('Tehama', 268L),\n",
       " ('San Mateo', 8341L),\n",
       " ('Solano', 1543L),\n",
       " ('Ventura', 1049L),\n",
       " ('Alpine', 2L),\n",
       " ('Siskiyou', 61L),\n",
       " ('Fresno', 415L),\n",
       " ('Lassen', 21L),\n",
       " ('Monterey', 662L),\n",
       " ('San Joaquin', 1146L),\n",
       " ('Kern', 47L),\n",
       " ('Butte', 419L),\n",
       " ('Glenn', 304L),\n",
       " ('San Bernardino', 2664L),\n",
       " ('Yuba', 71L),\n",
       " ('Tuolumne', 45L),\n",
       " ('Contra Costa', 8502L),\n",
       " ('San Francisco', 17219L),\n",
       " ('Shasta', 312L),\n",
       " ('Alameda', 17045L),\n",
       " ('Sonoma', 692L),\n",
       " ('Merced', 1075L),\n",
       " ('Santa Cruz', 2695L),\n",
       " ('Sacramento', 2195L),\n",
       " ('Humboldt', 75L),\n",
       " ('Calaveras', 10L),\n",
       " ('Trinity', 6L),\n",
       " ('Lake', 102L),\n",
       " ('Marin', 900L),\n",
       " ('Mariposa', 3L)]"
      ]
     },
     "execution_count": 42,
     "metadata": {},
     "output_type": "execute_result"
    }
   ],
   "source": [
    "cur.execute(\"SELECT counties.name10 as name, count(*) as count_tweets FROM tweets, counties \\\n",
    "             WHERE ST_Intersects(tweets.location, counties.geom) \\\n",
    "             GROUP BY counties.name10;\")\n",
    "cur.fetchall()"
   ]
  },
  {
   "cell_type": "code",
   "execution_count": 11,
   "metadata": {
    "collapsed": false
   },
   "outputs": [],
   "source": [
    "query = \"\"\"\n",
    "SELECT \n",
    "\n",
    "county_pop.name, \n",
    "county_tweets.count_tweets::float/county_pop.pop::float\n",
    "\n",
    "FROM\n",
    "\n",
    "    (SELECT counties.name10 as name, population.population as pop, counties.geom as geom \n",
    "    FROM population \n",
    "    INNER JOIN counties \n",
    "    ON counties.geoid10 = population.geoid10) county_pop\n",
    "    \n",
    "    INNER JOIN\n",
    "\n",
    "    (SELECT counties.name10 as name, count(*) as count_tweets \n",
    "    FROM tweets, counties\n",
    "    WHERE ST_Intersects(tweets.location, counties.geom)\n",
    "    GROUP BY counties.name10) county_tweets\n",
    "\n",
    "ON county_pop.name = county_tweets.name;\n",
    "\n",
    "\"\"\"\n",
    "\n",
    "cur.execute(query)\n",
    "result = cur.fetchall()"
   ]
  },
  {
   "cell_type": "code",
   "execution_count": 12,
   "metadata": {
    "collapsed": false
   },
   "outputs": [],
   "source": [
    "df = pd.DataFrame(result, columns=['NAME10', 'tweets_per_capita'])"
   ]
  },
  {
   "cell_type": "code",
   "execution_count": 13,
   "metadata": {
    "collapsed": false
   },
   "outputs": [
    {
     "data": {
      "text/html": [
       "<div>\n",
       "<table border=\"1\" class=\"dataframe\">\n",
       "  <thead>\n",
       "    <tr style=\"text-align: right;\">\n",
       "      <th></th>\n",
       "      <th>NAME10</th>\n",
       "      <th>tweets_per_capita</th>\n",
       "    </tr>\n",
       "  </thead>\n",
       "  <tbody>\n",
       "    <tr>\n",
       "      <th>0</th>\n",
       "      <td>Orange</td>\n",
       "      <td>0.000246</td>\n",
       "    </tr>\n",
       "    <tr>\n",
       "      <th>1</th>\n",
       "      <td>Tehama</td>\n",
       "      <td>0.004223</td>\n",
       "    </tr>\n",
       "    <tr>\n",
       "      <th>2</th>\n",
       "      <td>Santa Barbara</td>\n",
       "      <td>0.000179</td>\n",
       "    </tr>\n",
       "    <tr>\n",
       "      <th>3</th>\n",
       "      <td>Monterey</td>\n",
       "      <td>0.001595</td>\n",
       "    </tr>\n",
       "    <tr>\n",
       "      <th>4</th>\n",
       "      <td>Placer</td>\n",
       "      <td>0.000207</td>\n",
       "    </tr>\n",
       "  </tbody>\n",
       "</table>\n",
       "</div>"
      ],
      "text/plain": [
       "          NAME10  tweets_per_capita\n",
       "0         Orange           0.000246\n",
       "1         Tehama           0.004223\n",
       "2  Santa Barbara           0.000179\n",
       "3       Monterey           0.001595\n",
       "4         Placer           0.000207"
      ]
     },
     "execution_count": 13,
     "metadata": {},
     "output_type": "execute_result"
    }
   ],
   "source": [
    "df.head()"
   ]
  },
  {
   "cell_type": "code",
   "execution_count": 14,
   "metadata": {
    "collapsed": false
   },
   "outputs": [
    {
     "data": {
      "text/html": [
       "<div>\n",
       "<table border=\"1\" class=\"dataframe\">\n",
       "  <thead>\n",
       "    <tr style=\"text-align: right;\">\n",
       "      <th></th>\n",
       "      <th>NAME10</th>\n",
       "    </tr>\n",
       "  </thead>\n",
       "  <tbody>\n",
       "    <tr>\n",
       "      <th>0</th>\n",
       "      <td>Orange</td>\n",
       "    </tr>\n",
       "    <tr>\n",
       "      <th>1</th>\n",
       "      <td>Tehama</td>\n",
       "    </tr>\n",
       "    <tr>\n",
       "      <th>2</th>\n",
       "      <td>Colusa</td>\n",
       "    </tr>\n",
       "    <tr>\n",
       "      <th>3</th>\n",
       "      <td>Santa Barbara</td>\n",
       "    </tr>\n",
       "    <tr>\n",
       "      <th>4</th>\n",
       "      <td>Mono</td>\n",
       "    </tr>\n",
       "  </tbody>\n",
       "</table>\n",
       "</div>"
      ],
      "text/plain": [
       "          NAME10\n",
       "0         Orange\n",
       "1         Tehama\n",
       "2         Colusa\n",
       "3  Santa Barbara\n",
       "4           Mono"
      ]
     },
     "execution_count": 14,
     "metadata": {},
     "output_type": "execute_result"
    }
   ],
   "source": [
    "# To visualize with Folium, we need to add counties where there are no tweets.\n",
    "# Start with getting all the counties from the database.\n",
    "\n",
    "query = \"\"\"\n",
    "SELECT NAME10 FROM counties;\n",
    "\"\"\"\n",
    "\n",
    "cur.execute(query)\n",
    "result = cur.fetchall()\n",
    "counties = pd.DataFrame(result, columns=['NAME10'])\n",
    "counties.head()"
   ]
  },
  {
   "cell_type": "code",
   "execution_count": 15,
   "metadata": {
    "collapsed": false
   },
   "outputs": [
    {
     "data": {
      "text/html": [
       "<div>\n",
       "<table border=\"1\" class=\"dataframe\">\n",
       "  <thead>\n",
       "    <tr style=\"text-align: right;\">\n",
       "      <th></th>\n",
       "      <th>NAME10</th>\n",
       "      <th>tweets_per_capita</th>\n",
       "    </tr>\n",
       "  </thead>\n",
       "  <tbody>\n",
       "    <tr>\n",
       "      <th>0</th>\n",
       "      <td>Orange</td>\n",
       "      <td>0.000246</td>\n",
       "    </tr>\n",
       "    <tr>\n",
       "      <th>1</th>\n",
       "      <td>Tehama</td>\n",
       "      <td>0.004223</td>\n",
       "    </tr>\n",
       "    <tr>\n",
       "      <th>2</th>\n",
       "      <td>Colusa</td>\n",
       "      <td>NaN</td>\n",
       "    </tr>\n",
       "    <tr>\n",
       "      <th>3</th>\n",
       "      <td>Santa Barbara</td>\n",
       "      <td>0.000179</td>\n",
       "    </tr>\n",
       "    <tr>\n",
       "      <th>4</th>\n",
       "      <td>Mono</td>\n",
       "      <td>NaN</td>\n",
       "    </tr>\n",
       "  </tbody>\n",
       "</table>\n",
       "</div>"
      ],
      "text/plain": [
       "          NAME10  tweets_per_capita\n",
       "0         Orange           0.000246\n",
       "1         Tehama           0.004223\n",
       "2         Colusa                NaN\n",
       "3  Santa Barbara           0.000179\n",
       "4           Mono                NaN"
      ]
     },
     "execution_count": 15,
     "metadata": {},
     "output_type": "execute_result"
    }
   ],
   "source": [
    "# Merge missing counties into DataFrame\n",
    "\n",
    "county_tweets = pd.merge(counties, df, how='left')\n",
    "county_tweets.head()"
   ]
  },
  {
   "cell_type": "code",
   "execution_count": null,
   "metadata": {
    "collapsed": true
   },
   "outputs": [],
   "source": [
    "# Turn into tweets per 1,000,000 people for easier interpretation\n",
    "\n",
    "county_tweets.tweets_per_capita = county_tweets.tweets_per_capita * 1000000\n",
    "county_tweets.to_csv(os.path.join(os.getcwd(),'..','data','tweets_per_capita.csv'), index=False)"
   ]
  },
  {
   "cell_type": "code",
   "execution_count": 44,
   "metadata": {
    "collapsed": false
   },
   "outputs": [
    {
     "data": {
      "text/html": [
       "<div>\n",
       "<table border=\"1\" class=\"dataframe\">\n",
       "  <thead>\n",
       "    <tr style=\"text-align: right;\">\n",
       "      <th></th>\n",
       "      <th>NAME10</th>\n",
       "      <th>tweets_per_capita</th>\n",
       "    </tr>\n",
       "  </thead>\n",
       "  <tbody>\n",
       "    <tr>\n",
       "      <th>0</th>\n",
       "      <td>Orange</td>\n",
       "      <td>246.492629</td>\n",
       "    </tr>\n",
       "    <tr>\n",
       "      <th>1</th>\n",
       "      <td>Tehama</td>\n",
       "      <td>4222.933048</td>\n",
       "    </tr>\n",
       "    <tr>\n",
       "      <th>2</th>\n",
       "      <td>Colusa</td>\n",
       "      <td>NaN</td>\n",
       "    </tr>\n",
       "    <tr>\n",
       "      <th>3</th>\n",
       "      <td>Santa Barbara</td>\n",
       "      <td>179.289683</td>\n",
       "    </tr>\n",
       "    <tr>\n",
       "      <th>4</th>\n",
       "      <td>Mono</td>\n",
       "      <td>NaN</td>\n",
       "    </tr>\n",
       "    <tr>\n",
       "      <th>5</th>\n",
       "      <td>Monterey</td>\n",
       "      <td>1594.961656</td>\n",
       "    </tr>\n",
       "    <tr>\n",
       "      <th>6</th>\n",
       "      <td>Placer</td>\n",
       "      <td>206.640033</td>\n",
       "    </tr>\n",
       "    <tr>\n",
       "      <th>7</th>\n",
       "      <td>Amador</td>\n",
       "      <td>1916.463207</td>\n",
       "    </tr>\n",
       "    <tr>\n",
       "      <th>8</th>\n",
       "      <td>Calaveras</td>\n",
       "      <td>219.404098</td>\n",
       "    </tr>\n",
       "    <tr>\n",
       "      <th>9</th>\n",
       "      <td>Imperial</td>\n",
       "      <td>3191.464980</td>\n",
       "    </tr>\n",
       "    <tr>\n",
       "      <th>10</th>\n",
       "      <td>Siskiyou</td>\n",
       "      <td>1358.574610</td>\n",
       "    </tr>\n",
       "    <tr>\n",
       "      <th>11</th>\n",
       "      <td>Sonoma</td>\n",
       "      <td>1430.112549</td>\n",
       "    </tr>\n",
       "    <tr>\n",
       "      <th>12</th>\n",
       "      <td>Santa Clara</td>\n",
       "      <td>10962.359441</td>\n",
       "    </tr>\n",
       "    <tr>\n",
       "      <th>13</th>\n",
       "      <td>Kern</td>\n",
       "      <td>55.976971</td>\n",
       "    </tr>\n",
       "    <tr>\n",
       "      <th>14</th>\n",
       "      <td>Yolo</td>\n",
       "      <td>2439.643712</td>\n",
       "    </tr>\n",
       "    <tr>\n",
       "      <th>15</th>\n",
       "      <td>Mendocino</td>\n",
       "      <td>3255.882788</td>\n",
       "    </tr>\n",
       "    <tr>\n",
       "      <th>16</th>\n",
       "      <td>Sacramento</td>\n",
       "      <td>1547.095126</td>\n",
       "    </tr>\n",
       "    <tr>\n",
       "      <th>17</th>\n",
       "      <td>Madera</td>\n",
       "      <td>1259.404103</td>\n",
       "    </tr>\n",
       "    <tr>\n",
       "      <th>18</th>\n",
       "      <td>Yuba</td>\n",
       "      <td>983.992793</td>\n",
       "    </tr>\n",
       "    <tr>\n",
       "      <th>19</th>\n",
       "      <td>Tulare</td>\n",
       "      <td>NaN</td>\n",
       "    </tr>\n",
       "    <tr>\n",
       "      <th>20</th>\n",
       "      <td>San Diego</td>\n",
       "      <td>271.701117</td>\n",
       "    </tr>\n",
       "    <tr>\n",
       "      <th>21</th>\n",
       "      <td>Plumas</td>\n",
       "      <td>2649.072825</td>\n",
       "    </tr>\n",
       "    <tr>\n",
       "      <th>22</th>\n",
       "      <td>San Benito</td>\n",
       "      <td>2858.745409</td>\n",
       "    </tr>\n",
       "    <tr>\n",
       "      <th>23</th>\n",
       "      <td>Shasta</td>\n",
       "      <td>1760.493841</td>\n",
       "    </tr>\n",
       "    <tr>\n",
       "      <th>24</th>\n",
       "      <td>Stanislaus</td>\n",
       "      <td>2093.485702</td>\n",
       "    </tr>\n",
       "    <tr>\n",
       "      <th>25</th>\n",
       "      <td>Mariposa</td>\n",
       "      <td>164.374555</td>\n",
       "    </tr>\n",
       "    <tr>\n",
       "      <th>26</th>\n",
       "      <td>Fresno</td>\n",
       "      <td>446.020743</td>\n",
       "    </tr>\n",
       "    <tr>\n",
       "      <th>27</th>\n",
       "      <td>Alpine</td>\n",
       "      <td>1702.127660</td>\n",
       "    </tr>\n",
       "    <tr>\n",
       "      <th>28</th>\n",
       "      <td>Marin</td>\n",
       "      <td>3565.641479</td>\n",
       "    </tr>\n",
       "    <tr>\n",
       "      <th>29</th>\n",
       "      <td>Glenn</td>\n",
       "      <td>10810.041960</td>\n",
       "    </tr>\n",
       "    <tr>\n",
       "      <th>30</th>\n",
       "      <td>Lassen</td>\n",
       "      <td>601.805416</td>\n",
       "    </tr>\n",
       "    <tr>\n",
       "      <th>31</th>\n",
       "      <td>Del Norte</td>\n",
       "      <td>2761.272282</td>\n",
       "    </tr>\n",
       "    <tr>\n",
       "      <th>32</th>\n",
       "      <td>Napa</td>\n",
       "      <td>3604.818147</td>\n",
       "    </tr>\n",
       "    <tr>\n",
       "      <th>33</th>\n",
       "      <td>San Luis Obispo</td>\n",
       "      <td>1965.605611</td>\n",
       "    </tr>\n",
       "    <tr>\n",
       "      <th>34</th>\n",
       "      <td>San Mateo</td>\n",
       "      <td>11609.699200</td>\n",
       "    </tr>\n",
       "    <tr>\n",
       "      <th>35</th>\n",
       "      <td>Nevada</td>\n",
       "      <td>617.633956</td>\n",
       "    </tr>\n",
       "    <tr>\n",
       "      <th>36</th>\n",
       "      <td>San Joaquin</td>\n",
       "      <td>1672.245683</td>\n",
       "    </tr>\n",
       "    <tr>\n",
       "      <th>37</th>\n",
       "      <td>San Bernardino</td>\n",
       "      <td>1308.955833</td>\n",
       "    </tr>\n",
       "    <tr>\n",
       "      <th>38</th>\n",
       "      <td>Sutter</td>\n",
       "      <td>5056.102684</td>\n",
       "    </tr>\n",
       "    <tr>\n",
       "      <th>39</th>\n",
       "      <td>Riverside</td>\n",
       "      <td>1036.699623</td>\n",
       "    </tr>\n",
       "    <tr>\n",
       "      <th>40</th>\n",
       "      <td>Trinity</td>\n",
       "      <td>435.224140</td>\n",
       "    </tr>\n",
       "    <tr>\n",
       "      <th>41</th>\n",
       "      <td>Contra Costa</td>\n",
       "      <td>8104.668621</td>\n",
       "    </tr>\n",
       "    <tr>\n",
       "      <th>42</th>\n",
       "      <td>Ventura</td>\n",
       "      <td>1274.112797</td>\n",
       "    </tr>\n",
       "    <tr>\n",
       "      <th>43</th>\n",
       "      <td>Tuolumne</td>\n",
       "      <td>812.787862</td>\n",
       "    </tr>\n",
       "    <tr>\n",
       "      <th>44</th>\n",
       "      <td>Butte</td>\n",
       "      <td>1904.545455</td>\n",
       "    </tr>\n",
       "    <tr>\n",
       "      <th>45</th>\n",
       "      <td>Sierra</td>\n",
       "      <td>NaN</td>\n",
       "    </tr>\n",
       "    <tr>\n",
       "      <th>46</th>\n",
       "      <td>Lake</td>\n",
       "      <td>1577.360241</td>\n",
       "    </tr>\n",
       "    <tr>\n",
       "      <th>47</th>\n",
       "      <td>Modoc</td>\n",
       "      <td>NaN</td>\n",
       "    </tr>\n",
       "    <tr>\n",
       "      <th>48</th>\n",
       "      <td>El Dorado</td>\n",
       "      <td>458.416640</td>\n",
       "    </tr>\n",
       "    <tr>\n",
       "      <th>49</th>\n",
       "      <td>Los Angeles</td>\n",
       "      <td>401.890085</td>\n",
       "    </tr>\n",
       "    <tr>\n",
       "      <th>50</th>\n",
       "      <td>Alameda</td>\n",
       "      <td>11286.053960</td>\n",
       "    </tr>\n",
       "    <tr>\n",
       "      <th>51</th>\n",
       "      <td>Inyo</td>\n",
       "      <td>NaN</td>\n",
       "    </tr>\n",
       "    <tr>\n",
       "      <th>52</th>\n",
       "      <td>San Francisco</td>\n",
       "      <td>21383.819630</td>\n",
       "    </tr>\n",
       "    <tr>\n",
       "      <th>53</th>\n",
       "      <td>Santa Cruz</td>\n",
       "      <td>10271.283853</td>\n",
       "    </tr>\n",
       "    <tr>\n",
       "      <th>54</th>\n",
       "      <td>Kings</td>\n",
       "      <td>45.757017</td>\n",
       "    </tr>\n",
       "    <tr>\n",
       "      <th>55</th>\n",
       "      <td>Humboldt</td>\n",
       "      <td>557.111341</td>\n",
       "    </tr>\n",
       "    <tr>\n",
       "      <th>56</th>\n",
       "      <td>Solano</td>\n",
       "      <td>3732.968181</td>\n",
       "    </tr>\n",
       "    <tr>\n",
       "      <th>57</th>\n",
       "      <td>Merced</td>\n",
       "      <td>4202.616960</td>\n",
       "    </tr>\n",
       "  </tbody>\n",
       "</table>\n",
       "</div>"
      ],
      "text/plain": [
       "             NAME10  tweets_per_capita\n",
       "0            Orange         246.492629\n",
       "1            Tehama        4222.933048\n",
       "2            Colusa                NaN\n",
       "3     Santa Barbara         179.289683\n",
       "4              Mono                NaN\n",
       "5          Monterey        1594.961656\n",
       "6            Placer         206.640033\n",
       "7            Amador        1916.463207\n",
       "8         Calaveras         219.404098\n",
       "9          Imperial        3191.464980\n",
       "10         Siskiyou        1358.574610\n",
       "11           Sonoma        1430.112549\n",
       "12      Santa Clara       10962.359441\n",
       "13             Kern          55.976971\n",
       "14             Yolo        2439.643712\n",
       "15        Mendocino        3255.882788\n",
       "16       Sacramento        1547.095126\n",
       "17           Madera        1259.404103\n",
       "18             Yuba         983.992793\n",
       "19           Tulare                NaN\n",
       "20        San Diego         271.701117\n",
       "21           Plumas        2649.072825\n",
       "22       San Benito        2858.745409\n",
       "23           Shasta        1760.493841\n",
       "24       Stanislaus        2093.485702\n",
       "25         Mariposa         164.374555\n",
       "26           Fresno         446.020743\n",
       "27           Alpine        1702.127660\n",
       "28            Marin        3565.641479\n",
       "29            Glenn       10810.041960\n",
       "30           Lassen         601.805416\n",
       "31        Del Norte        2761.272282\n",
       "32             Napa        3604.818147\n",
       "33  San Luis Obispo        1965.605611\n",
       "34        San Mateo       11609.699200\n",
       "35           Nevada         617.633956\n",
       "36      San Joaquin        1672.245683\n",
       "37   San Bernardino        1308.955833\n",
       "38           Sutter        5056.102684\n",
       "39        Riverside        1036.699623\n",
       "40          Trinity         435.224140\n",
       "41     Contra Costa        8104.668621\n",
       "42          Ventura        1274.112797\n",
       "43         Tuolumne         812.787862\n",
       "44            Butte        1904.545455\n",
       "45           Sierra                NaN\n",
       "46             Lake        1577.360241\n",
       "47            Modoc                NaN\n",
       "48        El Dorado         458.416640\n",
       "49      Los Angeles         401.890085\n",
       "50          Alameda       11286.053960\n",
       "51             Inyo                NaN\n",
       "52    San Francisco       21383.819630\n",
       "53       Santa Cruz       10271.283853\n",
       "54            Kings          45.757017\n",
       "55         Humboldt         557.111341\n",
       "56           Solano        3732.968181\n",
       "57           Merced        4202.616960"
      ]
     },
     "execution_count": 44,
     "metadata": {},
     "output_type": "execute_result"
    }
   ],
   "source": [
    "county_tweets"
   ]
  },
  {
   "cell_type": "code",
   "execution_count": 18,
   "metadata": {
    "collapsed": false
   },
   "outputs": [
    {
     "data": {
      "text/plain": [
       "'\\nogr2ogr -f GeoJSON -t_srs crs:84 counties.geojson tl_2010_06_county10.shp\\n'"
      ]
     },
     "execution_count": 18,
     "metadata": {},
     "output_type": "execute_result"
    }
   ],
   "source": [
    "# Bash command to turn county shapefile into geoJSON for visualization\n",
    "\n",
    "\"\"\"\n",
    "ogr2ogr -f GeoJSON -t_srs crs:84 counties.geojson tl_2010_06_county10.shp\n",
    "\"\"\""
   ]
  },
  {
   "cell_type": "code",
   "execution_count": 22,
   "metadata": {
    "collapsed": false
   },
   "outputs": [],
   "source": [
    "geojson = os.path.join(os.getcwd(), '..', 'data', 'tl_2010_06_county10', 'counties.geojson')"
   ]
  },
  {
   "cell_type": "code",
   "execution_count": 47,
   "metadata": {
    "collapsed": false
   },
   "outputs": [
    {
     "name": "stderr",
     "output_type": "stream",
     "text": [
      "/home/paul/anaconda2/lib/python2.7/site-packages/ipykernel/__main__.py:9: FutureWarning: 'threshold_scale' default behavior has changed. Now you get a linear scale between the 'min' and the 'max' of your data. To get former behavior, use folium.utilities.split_six.\n"
     ]
    }
   ],
   "source": [
    "county_map = folium.Map(location=[38, -119], zoom_start=6, tiles=\"Mapbox Bright\") \n",
    "county_map.choropleth(geo_path=geojson,\n",
    "               data=pd.read_csv(os.path.join(os.getcwd(),'..','data','tweets_per_capita.csv')),\n",
    "               columns= ['NAME10', 'tweets_per_capita'], \n",
    "               key_on='feature.properties.NAME10',\n",
    "               fill_color='YlGn',\n",
    "               fill_opacity=0.7,\n",
    "               line_opacity=0.2,\n",
    "               legend_name=\"Tweets per 1M people\")\n",
    "\n",
    "county_map.save('counties.html')"
   ]
  },
  {
   "cell_type": "code",
   "execution_count": 48,
   "metadata": {
    "collapsed": false
   },
   "outputs": [
    {
     "data": {
      "text/html": [
       "<iframe width=\"70%\" height=\"700\" src=\"counties.html\"></iframe>"
      ],
      "text/plain": [
       "<IPython.core.display.HTML object>"
      ]
     },
     "metadata": {},
     "output_type": "display_data"
    }
   ],
   "source": [
    "%%HTML\n",
    "<iframe width=\"70%\" height=\"700\" src=\"counties.html\"></iframe>"
   ]
  },
  {
   "cell_type": "code",
   "execution_count": 72,
   "metadata": {
    "collapsed": false
   },
   "outputs": [],
   "source": [
    "conn.rollback()"
   ]
  },
  {
   "cell_type": "code",
   "execution_count": 28,
   "metadata": {
    "collapsed": true
   },
   "outputs": [],
   "source": [
    "conn.close()"
   ]
  },
  {
   "cell_type": "code",
   "execution_count": null,
   "metadata": {
    "collapsed": true
   },
   "outputs": [],
   "source": []
  }
 ],
 "metadata": {
  "kernelspec": {
   "display_name": "Python 2",
   "language": "python",
   "name": "python2"
  },
  "language_info": {
   "codemirror_mode": {
    "name": "ipython",
    "version": 2
   },
   "file_extension": ".py",
   "mimetype": "text/x-python",
   "name": "python",
   "nbconvert_exporter": "python",
   "pygments_lexer": "ipython2",
   "version": "2.7.12"
  }
 },
 "nbformat": 4,
 "nbformat_minor": 0
}
